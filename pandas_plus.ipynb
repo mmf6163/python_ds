{
 "cells": [
  {
   "cell_type": "markdown",
   "metadata": {},
   "source": [
    "### Numpy\n",
    "`numpy` is an ndarray-based data structure (n-dimensional) "
   ]
  },
  {
   "cell_type": "code",
   "execution_count": 17,
   "metadata": {},
   "outputs": [
    {
     "data": {
      "text/plain": [
       "array([1, 2, 3])"
      ]
     },
     "execution_count": 17,
     "metadata": {},
     "output_type": "execute_result"
    }
   ],
   "source": [
    "import numpy as np\n",
    "np.array([1,2,3])"
   ]
  },
  {
   "cell_type": "markdown",
   "metadata": {},
   "source": [
    "`numpy` supports many similar properties to Python arrays \n"
   ]
  },
  {
   "cell_type": "code",
   "execution_count": 18,
   "metadata": {},
   "outputs": [
    {
     "data": {
      "text/plain": [
       "3"
      ]
     },
     "execution_count": 18,
     "metadata": {},
     "output_type": "execute_result"
    }
   ],
   "source": [
    "a = np.array([1, 3, 2])\n",
    "len(a)"
   ]
  },
  {
   "cell_type": "code",
   "execution_count": 19,
   "metadata": {},
   "outputs": [
    {
     "data": {
      "text/plain": [
       "array([1, 2, 3])"
      ]
     },
     "execution_count": 19,
     "metadata": {},
     "output_type": "execute_result"
    }
   ],
   "source": [
    "a.sort()\n",
    "a"
   ]
  },
  {
   "cell_type": "markdown",
   "metadata": {},
   "source": [
    "### Numpy's arange() \n",
    "This is very similar to Python's range() function. Here's Python's range\n"
   ]
  },
  {
   "cell_type": "code",
   "execution_count": 20,
   "metadata": {},
   "outputs": [
    {
     "data": {
      "text/plain": [
       "range(0, 17)"
      ]
     },
     "execution_count": 20,
     "metadata": {},
     "output_type": "execute_result"
    }
   ],
   "source": [
    "r = range(17)\n",
    "r"
   ]
  },
  {
   "cell_type": "code",
   "execution_count": 21,
   "metadata": {},
   "outputs": [
    {
     "data": {
      "text/plain": [
       "[0, 1, 2, 3, 4, 5, 6, 7, 8, 9, 10, 11, 12, 13, 14, 15, 16]"
      ]
     },
     "execution_count": 21,
     "metadata": {},
     "output_type": "execute_result"
    }
   ],
   "source": [
    "list(r)"
   ]
  },
  {
   "cell_type": "markdown",
   "metadata": {},
   "source": [
    "### Numpy's arange() "
   ]
  },
  {
   "cell_type": "code",
   "execution_count": 22,
   "metadata": {},
   "outputs": [
    {
     "data": {
      "text/plain": [
       "array([ 0,  1,  2,  3,  4,  5,  6,  7,  8,  9, 10, 11, 12, 13, 14, 15, 16])"
      ]
     },
     "execution_count": 22,
     "metadata": {},
     "output_type": "execute_result"
    }
   ],
   "source": [
    "a = np.arange(17)\n",
    "a"
   ]
  },
  {
   "cell_type": "markdown",
   "metadata": {},
   "source": [
    "### Numpy arrays vs Normal Python Arrays\n",
    "Numpy supports more compact  and faster array processing including linear algebra operations"
   ]
  },
  {
   "cell_type": "code",
   "execution_count": null,
   "metadata": {},
   "outputs": [],
   "source": [
    "[3 * i for i in r]"
   ]
  },
  {
   "cell_type": "markdown",
   "metadata": {},
   "source": [
    "\n",
    "With Numpy? We can simply do this on our `a` numpy-array object from above to get the same result with no need for list comprehension or looping"
   ]
  },
  {
   "cell_type": "code",
   "execution_count": 23,
   "metadata": {},
   "outputs": [
    {
     "data": {
      "text/plain": [
       "array([ 0,  3,  6,  9, 12, 15, 18, 21, 24, 27, 30, 33, 36, 39, 42, 45, 48])"
      ]
     },
     "execution_count": 23,
     "metadata": {},
     "output_type": "execute_result"
    }
   ],
   "source": [
    "3 * a"
   ]
  },
  {
   "cell_type": "code",
   "execution_count": 24,
   "metadata": {},
   "outputs": [
    {
     "data": {
      "text/plain": [
       "array([  0,   1,   4,   9,  16,  25,  36,  49,  64,  81, 100, 121, 144,\n",
       "       169, 196, 225, 256])"
      ]
     },
     "execution_count": 24,
     "metadata": {},
     "output_type": "execute_result"
    }
   ],
   "source": [
    "# can also apply other math operators\n",
    "a**2"
   ]
  },
  {
   "cell_type": "markdown",
   "metadata": {},
   "source": [
    "### Numpy arrays support faster array processing than Python ones "
   ]
  },
  {
   "cell_type": "code",
   "execution_count": 25,
   "metadata": {},
   "outputs": [
    {
     "name": "stdout",
     "output_type": "stream",
     "text": [
      "324 µs ± 1.71 µs per loop (mean ± std. dev. of 7 runs, 1,000 loops each)\n"
     ]
    }
   ],
   "source": [
    "%%timeit\n",
    "[i**2 for i in range(1000)] "
   ]
  },
  {
   "cell_type": "code",
   "execution_count": 27,
   "metadata": {},
   "outputs": [
    {
     "name": "stdout",
     "output_type": "stream",
     "text": [
      "2.08 µs ± 42.1 ns per loop (mean ± std. dev. of 7 runs, 100,000 loops each)\n"
     ]
    }
   ],
   "source": [
    "%%timeit\n",
    "import numpy as np\n",
    "np.arange(1000)**2  "
   ]
  },
  {
   "cell_type": "markdown",
   "metadata": {},
   "source": [
    "### Numpy array slicing. Run the following in code cells checking your array at each step\n",
    "1. a[0, :]            # first row\n",
    "2.  a[:, 0]            # first column\n",
    "3. A = a[0: 2, 0:2]  # combining  colones with number ranges for subarrays\n",
    "4. A = a[:2, :2]     # more simply"
   ]
  },
  {
   "cell_type": "markdown",
   "metadata": {},
   "source": [
    "### Numpy constants, Functions and Linear Spacing -- test out following\n",
    "1. import math\n",
    "2. math.e\n",
    "3. np.e\n",
    "4. math.e == np.e\n",
    "5. np.pi   # numby also defines a pi but no tau.. but you can get tau like this\n",
    "6. math.tau\n",
    "\n",
    "Run and test these out in code cells!\n"
   ]
  },
  {
   "cell_type": "markdown",
   "metadata": {},
   "source": [
    "### Numpy trig & log functions -- test these out\n",
    "1. np.cos(math.tau)\n",
    "2. np.sin(math.tau)\n",
    "3. np.log(np.e)\n",
    "4. np.log10(np.e)  # NB: numpy uses log() to denote the natural log and log10 for base 10!\n",
    "5. np.pi\n",
    "\n",
    "Run and check these out documenting your understanding in Markdown cells\n"
   ]
  },
  {
   "cell_type": "markdown",
   "metadata": {},
   "source": [
    "### linespace function\n",
    "The `linspace()` function is often used to create an array with much finer spacing using a larger number of points.e.g: 100 points of cos x can be obtained with following code lines:\n",
    "1. angles = np.linspace(0, math.tau, 100)\n",
    "2. angles\n",
    "\n",
    "Test this out!"
   ]
  },
  {
   "cell_type": "code",
   "execution_count": 12,
   "metadata": {},
   "outputs": [
    {
     "data": {
      "image/png": "[encoded data removed]",
      "text/plain": [
       "<Figure size 640x480 with 1 Axes>"
      ]
     },
     "metadata": {},
     "output_type": "display_data"
    }
   ],
   "source": [
    "import numpy as np\n",
    "import matplotlib.pyplot as plt\n",
    "x = np.linspace(-2, 2, 100)\n",
    "fig, ax = plt.subplots(1, 1)\n",
    "ax.plot(x, x*x)\n",
    "plt.show()\n",
    "%matplotlib inline"
   ]
  },
  {
   "cell_type": "code",
   "execution_count": 13,
   "metadata": {},
   "outputs": [
    {
     "data": {
      "image/png": "[encoded data removed]",
      "text/plain": [
       "<Figure size 640x480 with 1 Axes>"
      ]
     },
     "metadata": {},
     "output_type": "display_data"
    }
   ],
   "source": [
    "import numpy as np\n",
    "import matplotlib.pyplot as plt\n",
    "from math import tau\n",
    "x = np.linspace(0, tau, 100)\n",
    "fig, ax = plt.subplots()\n",
    "\n",
    "#To make a plot of the cosine function, we can then call the ax object’s plot() method with x \n",
    "# (x-axis) values equal to our 100 linearly spaced points and y-axis values as: np.cos on x:\n",
    "ax.plot(x, np.cos(x))\n",
    "plt.show()\n",
    "%matplotlib inline\n"
   ]
  },
  {
   "cell_type": "code",
   "execution_count": 14,
   "metadata": {},
   "outputs": [
    {
     "data": {
      "image/png": "[encoded data removed]",
      "text/plain": [
       "<Figure size 640x480 with 1 Axes>"
      ]
     },
     "metadata": {},
     "output_type": "display_data"
    }
   ],
   "source": [
    "fig, ax = plt.subplots()\n",
    "ax.set_xticks([0, tau/4, tau/2, 3*tau/4, tau])\n",
    "ax.set_yticks([-1, -1/2, 0, 1/2, 1])\n",
    "plt.grid(True)\n",
    "\n",
    "ax.plot(x, np.cos(x))\n",
    "plt.show()"
   ]
  },
  {
   "cell_type": "markdown",
   "metadata": {},
   "source": [
    "# Scatter Plots\n",
    "The plot above introduced some of the key ideas of Matplotlib, and from this point there are a million possible ways to go. In this section and the next, we’ll focus on two kinds of visualizations especially important in data science: scatter plots and histograms. \n",
    "A scatter plot just plots a bunch of discrete function values against the corresponding points, which is a great way to get an overall sense of what relationships the function values might satisfy. Let’s take a look at a concrete example to see what this means.\n",
    "\n",
    "We’ll begin by generating some random points chosen from the standard normal distribution,14 which is a normal distribution (or “bell curve”) with an average value (mean) of 0 and a spread (standard deviation) of 1.15 We can obtain these values using NumPy’s random library, which includes a default random number generator called __default_rng()__\n"
   ]
  },
  {
   "cell_type": "code",
   "execution_count": 1,
   "metadata": {},
   "outputs": [
    {
     "data": {
      "text/plain": [
       "array([-2.66865176,  0.96581186, -0.69465386,  0.1283529 ,  0.17688152,\n",
       "        0.05090428, -0.50947238,  0.78168304,  0.1438574 ,  0.04892988,\n",
       "       -2.00207192,  0.93807825, -0.59764487,  0.56380262,  0.46308548,\n",
       "        0.41536745, -0.21132288, -1.14501457, -0.84140159, -0.3719395 ,\n",
       "        0.33030515, -0.8965733 , -0.8081595 , -0.54725568,  1.04478532,\n",
       "        0.24917468,  0.32730554, -0.72512377,  0.55112127,  0.07288131,\n",
       "       -1.28678875,  1.31610074,  1.07745629, -2.06397409, -0.42987361,\n",
       "        0.02824329,  1.08722571, -0.47457347, -0.75478285,  0.22495625,\n",
       "        2.30001332,  0.62513551,  0.2063433 ,  0.10946065,  1.00697833,\n",
       "        0.35047719, -0.5744429 , -1.2790336 ,  0.13995285,  0.38854763])"
      ]
     },
     "execution_count": 1,
     "metadata": {},
     "output_type": "execute_result"
    }
   ],
   "source": [
    "from numpy.random import default_rng\n",
    "rng = default_rng()\n",
    "n_pts = 50\n",
    "x = rng.standard_normal(n_pts)\n",
    "x\n"
   ]
  },
  {
   "cell_type": "markdown",
   "metadata": {},
   "source": [
    "With those x values in hand, let’s create a set of y values by adding a constant multiple (the slope) of 5 times x plus another random factor:"
   ]
  },
  {
   "cell_type": "code",
   "execution_count": 2,
   "metadata": {},
   "outputs": [],
   "source": [
    "y = 5*x + rng.standard_normal(n_pts)"
   ]
  },
  {
   "cell_type": "markdown",
   "metadata": {},
   "source": [
    "This broadly follows the pattern of the equation for a line, y = mx + b, only with random values for x and b. Because the functional form of y is essentially linear, a plot of y vs. x should look roughly like a line, which we can confirm with a scatter plot as follows:"
   ]
  },
  {
   "cell_type": "code",
   "execution_count": 4,
   "metadata": {},
   "outputs": [
    {
     "data": {
      "image/png": "[encoded data removed]",
      "text/plain": [
       "<Figure size 640x480 with 1 Axes>"
      ]
     },
     "metadata": {},
     "output_type": "display_data"
    }
   ],
   "source": [
    "import numpy as np\n",
    "import matplotlib.pyplot as plt\n",
    "from math import tau\n",
    "fig, ax = plt.subplots()\n",
    "ax.scatter(x, y)\n",
    "plt.show()\n"
   ]
  },
  {
   "cell_type": "markdown",
   "metadata": {},
   "source": [
    "## Histograms\n",
    "Finally, let’s apply some of the same ideas from above to visualize the distribution of 1000 random values drawn from the standard normal distribution:"
   ]
  },
  {
   "cell_type": "code",
   "execution_count": 5,
   "metadata": {},
   "outputs": [],
   "source": [
    "values = rng.standard_normal(1000)"
   ]
  },
  {
   "cell_type": "markdown",
   "metadata": {},
   "source": [
    "A common way to get a sense of what these values look like is to make a fixed number of “bins” and plot how many values fit into each bin. The resulting plot is known as a **histogram**, and can be generated automatically using Matplotlib’s hist() method: (The result should be a good approximation of a “bell curve”)"
   ]
  },
  {
   "cell_type": "code",
   "execution_count": 6,
   "metadata": {},
   "outputs": [
    {
     "data": {
      "image/png": "[encoded data removed]",
      "text/plain": [
       "<Figure size 640x480 with 1 Axes>"
      ]
     },
     "metadata": {},
     "output_type": "display_data"
    }
   ],
   "source": [
    "fig, ax = plt.subplots()\n",
    "ax.hist(values)\n",
    "plt.show()\n"
   ]
  },
  {
   "cell_type": "markdown",
   "metadata": {},
   "source": [
    "# Handcrafted Examples - Hand-crafted Examples \n",
    "The first steps to getting started are nearly always to import numpy as np and pandas as pd, along with matplotlib.pyplot as plt:"
   ]
  },
  {
   "cell_type": "code",
   "execution_count": 2,
   "metadata": {},
   "outputs": [],
   "source": [
    "import numpy as np\n",
    "import pandas as pd\n",
    "import matplotlib.pyplot as plt"
   ]
  },
  {
   "cell_type": "markdown",
   "metadata": {},
   "source": [
    "The core data structures of pandas are Series and DataFrame. The DataFrame is key, but it’s built up from the Series and both encapsulate an Index object denoting what the name says!\n",
    "## Series\n",
    "A Series is essentially a fancy array with elements of arbitrary types (much like a list), each of which is called an axis. For example, the following command defines a Series of numbers and strings, plus a special (and commonly encountered) value known as NaN (“Not a Number”):"
   ]
  },
  {
   "cell_type": "code",
   "execution_count": 9,
   "metadata": {},
   "outputs": [
    {
     "data": {
      "text/plain": [
       "0      1\n",
       "1      2\n",
       "2      3\n",
       "3    foo\n",
       "4    NaN\n",
       "5    bar\n",
       "dtype: object"
      ]
     },
     "execution_count": 9,
     "metadata": {},
     "output_type": "execute_result"
    }
   ],
   "source": [
    "pd.Series([1, 2, 3, \"foo\", np.nan, \"bar\"])"
   ]
  },
  {
   "cell_type": "markdown",
   "metadata": {},
   "source": [
    "### Using dropna() to clean the data\n",
    "The dropna() method drops any “Not Available” values, such as None, NaN, or NaT (“Not a Time”).\n",
    "By default, Series axis labels are numbered just like array indices (in this case, 0–5). The set of axes is known as the index of the Series:"
   ]
  },
  {
   "cell_type": "code",
   "execution_count": 11,
   "metadata": {},
   "outputs": [
    {
     "data": {
      "text/plain": [
       "RangeIndex(start=0, stop=6, step=1)"
      ]
     },
     "execution_count": 11,
     "metadata": {},
     "output_type": "execute_result"
    }
   ],
   "source": [
    "pd.Series([1, 2, 3, \"foo\", np.nan, \"bar\"]).index "
   ]
  },
  {
   "cell_type": "markdown",
   "metadata": {},
   "source": [
    "We can also define our own axis labels (indices), which must have the same number of elements as the Series:"
   ]
  },
  {
   "cell_type": "code",
   "execution_count": 15,
   "metadata": {},
   "outputs": [
    {
     "data": {
      "text/plain": [
       "a    1.513554\n",
       "b   -0.721113\n",
       "c    2.613528\n",
       "d   -0.518396\n",
       "e    1.020205\n",
       "dtype: float64"
      ]
     },
     "execution_count": 15,
     "metadata": {},
     "output_type": "execute_result"
    }
   ],
   "source": [
    "from numpy.random import default_rng\n",
    "rng = default_rng()\n",
    "s = pd.Series(rng.standard_normal(5), index=[\"a\", \"b\", \"c\", \"d\", \"e\"])\n",
    "s"
   ]
  },
  {
   "cell_type": "markdown",
   "metadata": {},
   "source": [
    "We can use our indices as dictionary keys "
   ]
  },
  {
   "cell_type": "code",
   "execution_count": 16,
   "metadata": {},
   "outputs": [
    {
     "data": {
      "text/plain": [
       "2.6135282391706385"
      ]
     },
     "execution_count": 16,
     "metadata": {},
     "output_type": "execute_result"
    }
   ],
   "source": [
    "s['c']"
   ]
  },
  {
   "cell_type": "markdown",
   "metadata": {},
   "source": [
    "Indeed call the keys() method on s should prove the point"
   ]
  },
  {
   "cell_type": "code",
   "execution_count": 17,
   "metadata": {},
   "outputs": [
    {
     "data": {
      "text/plain": [
       "Index(['a', 'b', 'c', 'd', 'e'], dtype='object')"
      ]
     },
     "execution_count": 17,
     "metadata": {},
     "output_type": "execute_result"
    }
   ],
   "source": [
    "s.keys()"
   ]
  },
  {
   "cell_type": "markdown",
   "metadata": {},
   "source": [
    "### Series Methods\n",
    "Series come equipped with a wealth of methods, including plotting methods that use Matplotlib under the hood. For example, here’s a histogram for a Series with 1000 values generated with the standard normal distribution:"
   ]
  },
  {
   "cell_type": "code",
   "execution_count": 18,
   "metadata": {},
   "outputs": [
    {
     "data": {
      "image/png": "[encoded data removed]",
      "text/plain": [
       "<Figure size 640x480 with 1 Axes>"
      ]
     },
     "metadata": {},
     "output_type": "display_data"
    }
   ],
   "source": [
    "s = pd.Series(rng.standard_normal(1000))\n",
    "s.hist()\n",
    "plt.show()\n"
   ]
  },
  {
   "cell_type": "markdown",
   "metadata": {},
   "source": [
    "## DataFrame\n",
    "DataFrame object is the heart of Python data analysis. A DataFrame can be thought of as a two-dimensional grid of cells containing arbitrary data types—roughly equivalent to an Excel worksheet. Let's see how to create a simple DataFrame by hand just to get a sense of how they work, but as you know already  in most cases DataFrame objects are created by importing data from files you typically download from the web\n",
    "There are a large number of ways to initialize or build DataFrames appropriate to a correspondingly large number of circumstances. For example: Initializing a DataFrame with a Python dictionary.\n"
   ]
  },
  {
   "cell_type": "code",
   "execution_count": 19,
   "metadata": {},
   "outputs": [
    {
     "data": {
      "text/html": [
       "<div>\n",
       "<style scoped>\n",
       "    .dataframe tbody tr th:only-of-type {\n",
       "        vertical-align: middle;\n",
       "    }\n",
       "\n",
       "    .dataframe tbody tr th {\n",
       "        vertical-align: top;\n",
       "    }\n",
       "\n",
       "    .dataframe thead th {\n",
       "        text-align: right;\n",
       "    }\n",
       "</style>\n",
       "<table border=\"1\" class=\"dataframe\">\n",
       "  <thead>\n",
       "    <tr style=\"text-align: right;\">\n",
       "      <th></th>\n",
       "      <th>Number</th>\n",
       "      <th>String</th>\n",
       "      <th>Angles</th>\n",
       "      <th>Random</th>\n",
       "      <th>Timestamp</th>\n",
       "      <th>Size</th>\n",
       "    </tr>\n",
       "  </thead>\n",
       "  <tbody>\n",
       "    <tr>\n",
       "      <th>0</th>\n",
       "      <td>1.0</td>\n",
       "      <td>foo</td>\n",
       "      <td>0.000000</td>\n",
       "      <td>1.212651</td>\n",
       "      <td>2022-10-20</td>\n",
       "      <td>tiny</td>\n",
       "    </tr>\n",
       "    <tr>\n",
       "      <th>1</th>\n",
       "      <td>1.0</td>\n",
       "      <td>foo</td>\n",
       "      <td>1.570796</td>\n",
       "      <td>2.321306</td>\n",
       "      <td>2022-10-20</td>\n",
       "      <td>small</td>\n",
       "    </tr>\n",
       "    <tr>\n",
       "      <th>2</th>\n",
       "      <td>1.0</td>\n",
       "      <td>foo</td>\n",
       "      <td>3.141593</td>\n",
       "      <td>0.536224</td>\n",
       "      <td>2022-10-20</td>\n",
       "      <td>mid</td>\n",
       "    </tr>\n",
       "    <tr>\n",
       "      <th>3</th>\n",
       "      <td>1.0</td>\n",
       "      <td>foo</td>\n",
       "      <td>4.712389</td>\n",
       "      <td>2.100150</td>\n",
       "      <td>2022-10-20</td>\n",
       "      <td>big</td>\n",
       "    </tr>\n",
       "    <tr>\n",
       "      <th>4</th>\n",
       "      <td>1.0</td>\n",
       "      <td>foo</td>\n",
       "      <td>6.283185</td>\n",
       "      <td>1.485294</td>\n",
       "      <td>2022-10-20</td>\n",
       "      <td>huge</td>\n",
       "    </tr>\n",
       "  </tbody>\n",
       "</table>\n",
       "</div>"
      ],
      "text/plain": [
       "   Number String    Angles    Random  Timestamp   Size\n",
       "0     1.0    foo  0.000000  1.212651 2022-10-20   tiny\n",
       "1     1.0    foo  1.570796  2.321306 2022-10-20  small\n",
       "2     1.0    foo  3.141593  0.536224 2022-10-20    mid\n",
       "3     1.0    foo  4.712389  2.100150 2022-10-20    big\n",
       "4     1.0    foo  6.283185  1.485294 2022-10-20   huge"
      ]
     },
     "execution_count": 19,
     "metadata": {},
     "output_type": "execute_result"
    }
   ],
   "source": [
    "from math import tau\n",
    "from numpy.random import default_rng\n",
    "rng = default_rng()\n",
    "df = pd.DataFrame({\n",
    "  \"Number\": 1.0,\n",
    "  \"String\": \"foo\",\n",
    "  \"Angles\": np.linspace(0, tau, 5),\n",
    "  \"Random\": pd.Series(rng.standard_normal(5)),\n",
    "  \"Timestamp\": pd.Timestamp(\"20221020\"),\n",
    "  \"Size\": pd.Categorical([\"tiny\", \"small\", \"mid\", \"big\", \"huge\"])\n",
    "})\n",
    "df"
   ]
  },
  {
   "cell_type": "markdown",
   "metadata": {},
   "source": [
    "Here we’ve applied the `linspace()` method and two new pandas methods, `TimeStamp` (just what it sounds like) and `Categorical` (which contains values of a categorical variable). The result is a set of labeled rows and columns with a heterogeneous set of data. We can access a DataFrame column using the column name as a key as in code cell below:\n"
   ]
  },
  {
   "cell_type": "code",
   "execution_count": 20,
   "metadata": {},
   "outputs": [
    {
     "data": {
      "text/plain": [
       "0     tiny\n",
       "1    small\n",
       "2      mid\n",
       "3      big\n",
       "4     huge\n",
       "Name: Size, dtype: category\n",
       "Categories (5, object): ['big', 'huge', 'mid', 'small', 'tiny']"
      ]
     },
     "execution_count": 20,
     "metadata": {},
     "output_type": "execute_result"
    }
   ],
   "source": [
    "df[\"Size\"]"
   ]
  },
  {
   "cell_type": "markdown",
   "metadata": {},
   "source": [
    "We can also `calculate statistics`, such as the mean value of the Random column:"
   ]
  },
  {
   "cell_type": "code",
   "execution_count": 21,
   "metadata": {},
   "outputs": [
    {
     "data": {
      "text/plain": [
       "1.5311249592599838"
      ]
     },
     "execution_count": 21,
     "metadata": {},
     "output_type": "execute_result"
    }
   ],
   "source": [
    "df[\"Random\"].mean()"
   ]
  },
  {
   "cell_type": "markdown",
   "metadata": {},
   "source": [
    "One useful pandas function for getting a general overview of numeric data is `describe()`:"
   ]
  },
  {
   "cell_type": "code",
   "execution_count": 22,
   "metadata": {},
   "outputs": [
    {
     "data": {
      "text/html": [
       "<div>\n",
       "<style scoped>\n",
       "    .dataframe tbody tr th:only-of-type {\n",
       "        vertical-align: middle;\n",
       "    }\n",
       "\n",
       "    .dataframe tbody tr th {\n",
       "        vertical-align: top;\n",
       "    }\n",
       "\n",
       "    .dataframe thead th {\n",
       "        text-align: right;\n",
       "    }\n",
       "</style>\n",
       "<table border=\"1\" class=\"dataframe\">\n",
       "  <thead>\n",
       "    <tr style=\"text-align: right;\">\n",
       "      <th></th>\n",
       "      <th>Number</th>\n",
       "      <th>Angles</th>\n",
       "      <th>Random</th>\n",
       "    </tr>\n",
       "  </thead>\n",
       "  <tbody>\n",
       "    <tr>\n",
       "      <th>count</th>\n",
       "      <td>5.0</td>\n",
       "      <td>5.000000</td>\n",
       "      <td>5.000000</td>\n",
       "    </tr>\n",
       "    <tr>\n",
       "      <th>mean</th>\n",
       "      <td>1.0</td>\n",
       "      <td>3.141593</td>\n",
       "      <td>1.531125</td>\n",
       "    </tr>\n",
       "    <tr>\n",
       "      <th>std</th>\n",
       "      <td>0.0</td>\n",
       "      <td>2.483647</td>\n",
       "      <td>0.714411</td>\n",
       "    </tr>\n",
       "    <tr>\n",
       "      <th>min</th>\n",
       "      <td>1.0</td>\n",
       "      <td>0.000000</td>\n",
       "      <td>0.536224</td>\n",
       "    </tr>\n",
       "    <tr>\n",
       "      <th>25%</th>\n",
       "      <td>1.0</td>\n",
       "      <td>1.570796</td>\n",
       "      <td>1.212651</td>\n",
       "    </tr>\n",
       "    <tr>\n",
       "      <th>50%</th>\n",
       "      <td>1.0</td>\n",
       "      <td>3.141593</td>\n",
       "      <td>1.485294</td>\n",
       "    </tr>\n",
       "    <tr>\n",
       "      <th>75%</th>\n",
       "      <td>1.0</td>\n",
       "      <td>4.712389</td>\n",
       "      <td>2.100150</td>\n",
       "    </tr>\n",
       "    <tr>\n",
       "      <th>max</th>\n",
       "      <td>1.0</td>\n",
       "      <td>6.283185</td>\n",
       "      <td>2.321306</td>\n",
       "    </tr>\n",
       "  </tbody>\n",
       "</table>\n",
       "</div>"
      ],
      "text/plain": [
       "       Number    Angles    Random\n",
       "count     5.0  5.000000  5.000000\n",
       "mean      1.0  3.141593  1.531125\n",
       "std       0.0  2.483647  0.714411\n",
       "min       1.0  0.000000  0.536224\n",
       "25%       1.0  1.570796  1.212651\n",
       "50%       1.0  3.141593  1.485294\n",
       "75%       1.0  4.712389  2.100150\n",
       "max       1.0  6.283185  2.321306"
      ]
     },
     "execution_count": 22,
     "metadata": {},
     "output_type": "execute_result"
    }
   ],
   "source": [
    "df.describe()"
   ]
  },
  {
   "cell_type": "markdown",
   "metadata": {},
   "source": [
    "This automatically displays the `total count`, `mean`, `standard deviation`, `minimum`, and `maximum values`, and the `middle three quartiles (25%, 50%, and 75%)` of each **numeric column**. These values won’t always be meaningful—the standard deviation of the linearly spaced angles, for example, doesn’t really tell us anything useful— but `describe()` is often helpful as a first step in an analysis. Two other useful summary methods are `head()` and `info()` which you already know. Another useful method is `map()`, which we can use to map categorical values to numbers. Suppose, for example, that **\"Size\"** corresponds to drink sizes in ounces, which we can represent as a sizes dictionary. Using `map()` on the \"Size\" column should then produce the desired result as below:"
   ]
  },
  {
   "cell_type": "code",
   "execution_count": 23,
   "metadata": {},
   "outputs": [
    {
     "data": {
      "text/plain": [
       "0     4\n",
       "1     8\n",
       "2    12\n",
       "3    16\n",
       "4    24\n",
       "Name: Size, dtype: category\n",
       "Categories (5, int64): [16, 24, 12, 8, 4]"
      ]
     },
     "execution_count": 23,
     "metadata": {},
     "output_type": "execute_result"
    }
   ],
   "source": [
    "sizes = {\"tiny\": 4, \"small\": 8, \"mid\": 12, \"big\": 16, \"huge\": 24}\n",
    "df[\"Size\"].map(sizes)\n"
   ]
  },
  {
   "cell_type": "markdown",
   "metadata": {},
   "source": [
    "### The Example Nobel Lauretes Dataset\n",
    "As you know already the most common practice is to load data from external files and then take the analysis from there. The most common input format is CSV files (for “comma-separated values”). Your typical first step is to download your dataset. For example you can download the winners of the Nobel Prize, who are typically known as laureates (a reference to the ancient practice of using wreaths from a laurel tree to honor great accomplishments). You can do this with the commandline tool - curl:  <curl -OL http://api.nobelprize.org/v1/laureate.csv>: We can then read the data using panda's `read_csv()` function:\n"
   ]
  },
  {
   "cell_type": "code",
   "execution_count": 3,
   "metadata": {},
   "outputs": [],
   "source": [
    "nobel = pd.read_csv(\"laureates.csv\")"
   ]
  },
  {
   "cell_type": "markdown",
   "metadata": {},
   "source": [
    "The statistics for the numeric columns aren’t very meaningful, so describe() doesn’t tell us much:"
   ]
  },
  {
   "cell_type": "code",
   "execution_count": 4,
   "metadata": {},
   "outputs": [
    {
     "data": {
      "text/html": [
       "<div>\n",
       "<style scoped>\n",
       "    .dataframe tbody tr th:only-of-type {\n",
       "        vertical-align: middle;\n",
       "    }\n",
       "\n",
       "    .dataframe tbody tr th {\n",
       "        vertical-align: top;\n",
       "    }\n",
       "\n",
       "    .dataframe thead th {\n",
       "        text-align: right;\n",
       "    }\n",
       "</style>\n",
       "<table border=\"1\" class=\"dataframe\">\n",
       "  <thead>\n",
       "    <tr style=\"text-align: right;\">\n",
       "      <th></th>\n",
       "      <th>id</th>\n",
       "      <th>year</th>\n",
       "      <th>share</th>\n",
       "    </tr>\n",
       "  </thead>\n",
       "  <tbody>\n",
       "    <tr>\n",
       "      <th>count</th>\n",
       "      <td>1000.000000</td>\n",
       "      <td>1000.000000</td>\n",
       "      <td>1000.000000</td>\n",
       "    </tr>\n",
       "    <tr>\n",
       "      <th>mean</th>\n",
       "      <td>509.099000</td>\n",
       "      <td>1973.721000</td>\n",
       "      <td>2.027000</td>\n",
       "    </tr>\n",
       "    <tr>\n",
       "      <th>std</th>\n",
       "      <td>298.130617</td>\n",
       "      <td>34.523195</td>\n",
       "      <td>0.944014</td>\n",
       "    </tr>\n",
       "    <tr>\n",
       "      <th>min</th>\n",
       "      <td>1.000000</td>\n",
       "      <td>1901.000000</td>\n",
       "      <td>1.000000</td>\n",
       "    </tr>\n",
       "    <tr>\n",
       "      <th>25%</th>\n",
       "      <td>250.750000</td>\n",
       "      <td>1949.750000</td>\n",
       "      <td>1.000000</td>\n",
       "    </tr>\n",
       "    <tr>\n",
       "      <th>50%</th>\n",
       "      <td>500.500000</td>\n",
       "      <td>1979.000000</td>\n",
       "      <td>2.000000</td>\n",
       "    </tr>\n",
       "    <tr>\n",
       "      <th>75%</th>\n",
       "      <td>764.250000</td>\n",
       "      <td>2003.000000</td>\n",
       "      <td>3.000000</td>\n",
       "    </tr>\n",
       "    <tr>\n",
       "      <th>max</th>\n",
       "      <td>1034.000000</td>\n",
       "      <td>2023.000000</td>\n",
       "      <td>4.000000</td>\n",
       "    </tr>\n",
       "  </tbody>\n",
       "</table>\n",
       "</div>"
      ],
      "text/plain": [
       "                id         year        share\n",
       "count  1000.000000  1000.000000  1000.000000\n",
       "mean    509.099000  1973.721000     2.027000\n",
       "std     298.130617    34.523195     0.944014\n",
       "min       1.000000  1901.000000     1.000000\n",
       "25%     250.750000  1949.750000     1.000000\n",
       "50%     500.500000  1979.000000     2.000000\n",
       "75%     764.250000  2003.000000     3.000000\n",
       "max    1034.000000  2023.000000     4.000000"
      ]
     },
     "execution_count": 4,
     "metadata": {},
     "output_type": "execute_result"
    }
   ],
   "source": [
    "nobel.describe()"
   ]
  },
  {
   "cell_type": "markdown",
   "metadata": {},
   "source": [
    "Let's investigate the `head()` or top entries of the Nobel Prize data. "
   ]
  },
  {
   "cell_type": "code",
   "execution_count": 5,
   "metadata": {},
   "outputs": [
    {
     "data": {
      "text/html": [
       "<div>\n",
       "<style scoped>\n",
       "    .dataframe tbody tr th:only-of-type {\n",
       "        vertical-align: middle;\n",
       "    }\n",
       "\n",
       "    .dataframe tbody tr th {\n",
       "        vertical-align: top;\n",
       "    }\n",
       "\n",
       "    .dataframe thead th {\n",
       "        text-align: right;\n",
       "    }\n",
       "</style>\n",
       "<table border=\"1\" class=\"dataframe\">\n",
       "  <thead>\n",
       "    <tr style=\"text-align: right;\">\n",
       "      <th></th>\n",
       "      <th>id</th>\n",
       "      <th>firstname</th>\n",
       "      <th>surname</th>\n",
       "      <th>born</th>\n",
       "      <th>died</th>\n",
       "      <th>bornCountry</th>\n",
       "      <th>bornCountryCode</th>\n",
       "      <th>bornCity</th>\n",
       "      <th>diedCountry</th>\n",
       "      <th>diedCountryCode</th>\n",
       "      <th>diedCity</th>\n",
       "      <th>gender</th>\n",
       "      <th>year</th>\n",
       "      <th>category</th>\n",
       "      <th>overallMotivation</th>\n",
       "      <th>share</th>\n",
       "      <th>motivation</th>\n",
       "      <th>name</th>\n",
       "      <th>city</th>\n",
       "      <th>country</th>\n",
       "    </tr>\n",
       "  </thead>\n",
       "  <tbody>\n",
       "    <tr>\n",
       "      <th>0</th>\n",
       "      <td>1</td>\n",
       "      <td>Wilhelm Conrad</td>\n",
       "      <td>Röntgen</td>\n",
       "      <td>1845-03-27</td>\n",
       "      <td>1923-02-10</td>\n",
       "      <td>Prussia (now Germany)</td>\n",
       "      <td>DE</td>\n",
       "      <td>Lennep (now Remscheid)</td>\n",
       "      <td>Germany</td>\n",
       "      <td>DE</td>\n",
       "      <td>Munich</td>\n",
       "      <td>male</td>\n",
       "      <td>1901</td>\n",
       "      <td>physics</td>\n",
       "      <td>NaN</td>\n",
       "      <td>1</td>\n",
       "      <td>\"in recognition of the extraordinary services ...</td>\n",
       "      <td>Munich University</td>\n",
       "      <td>Munich</td>\n",
       "      <td>Germany</td>\n",
       "    </tr>\n",
       "    <tr>\n",
       "      <th>1</th>\n",
       "      <td>2</td>\n",
       "      <td>Hendrik A.</td>\n",
       "      <td>Lorentz</td>\n",
       "      <td>1853-07-18</td>\n",
       "      <td>1928-02-04</td>\n",
       "      <td>the Netherlands</td>\n",
       "      <td>NL</td>\n",
       "      <td>Arnhem</td>\n",
       "      <td>the Netherlands</td>\n",
       "      <td>NL</td>\n",
       "      <td>NaN</td>\n",
       "      <td>male</td>\n",
       "      <td>1902</td>\n",
       "      <td>physics</td>\n",
       "      <td>NaN</td>\n",
       "      <td>2</td>\n",
       "      <td>\"in recognition of the extraordinary service t...</td>\n",
       "      <td>Leiden University</td>\n",
       "      <td>Leiden</td>\n",
       "      <td>the Netherlands</td>\n",
       "    </tr>\n",
       "    <tr>\n",
       "      <th>2</th>\n",
       "      <td>3</td>\n",
       "      <td>Pieter</td>\n",
       "      <td>Zeeman</td>\n",
       "      <td>1865-05-25</td>\n",
       "      <td>1943-10-09</td>\n",
       "      <td>the Netherlands</td>\n",
       "      <td>NL</td>\n",
       "      <td>Zonnemaire</td>\n",
       "      <td>the Netherlands</td>\n",
       "      <td>NL</td>\n",
       "      <td>Amsterdam</td>\n",
       "      <td>male</td>\n",
       "      <td>1902</td>\n",
       "      <td>physics</td>\n",
       "      <td>NaN</td>\n",
       "      <td>2</td>\n",
       "      <td>\"in recognition of the extraordinary service t...</td>\n",
       "      <td>Amsterdam University</td>\n",
       "      <td>Amsterdam</td>\n",
       "      <td>the Netherlands</td>\n",
       "    </tr>\n",
       "    <tr>\n",
       "      <th>3</th>\n",
       "      <td>4</td>\n",
       "      <td>Henri</td>\n",
       "      <td>Becquerel</td>\n",
       "      <td>1852-12-15</td>\n",
       "      <td>1908-08-25</td>\n",
       "      <td>France</td>\n",
       "      <td>FR</td>\n",
       "      <td>Paris</td>\n",
       "      <td>France</td>\n",
       "      <td>FR</td>\n",
       "      <td>NaN</td>\n",
       "      <td>male</td>\n",
       "      <td>1903</td>\n",
       "      <td>physics</td>\n",
       "      <td>NaN</td>\n",
       "      <td>2</td>\n",
       "      <td>\"in recognition of the extraordinary services ...</td>\n",
       "      <td>École Polytechnique</td>\n",
       "      <td>Paris</td>\n",
       "      <td>France</td>\n",
       "    </tr>\n",
       "    <tr>\n",
       "      <th>4</th>\n",
       "      <td>5</td>\n",
       "      <td>Pierre</td>\n",
       "      <td>Curie</td>\n",
       "      <td>1859-05-15</td>\n",
       "      <td>1906-04-19</td>\n",
       "      <td>France</td>\n",
       "      <td>FR</td>\n",
       "      <td>Paris</td>\n",
       "      <td>France</td>\n",
       "      <td>FR</td>\n",
       "      <td>Paris</td>\n",
       "      <td>male</td>\n",
       "      <td>1903</td>\n",
       "      <td>physics</td>\n",
       "      <td>NaN</td>\n",
       "      <td>4</td>\n",
       "      <td>\"in recognition of the extraordinary services ...</td>\n",
       "      <td>École municipale de physique et de chimie indu...</td>\n",
       "      <td>Paris</td>\n",
       "      <td>France</td>\n",
       "    </tr>\n",
       "  </tbody>\n",
       "</table>\n",
       "</div>"
      ],
      "text/plain": [
       "   id       firstname    surname        born        died  \\\n",
       "0   1  Wilhelm Conrad    Röntgen  1845-03-27  1923-02-10   \n",
       "1   2      Hendrik A.    Lorentz  1853-07-18  1928-02-04   \n",
       "2   3          Pieter     Zeeman  1865-05-25  1943-10-09   \n",
       "3   4           Henri  Becquerel  1852-12-15  1908-08-25   \n",
       "4   5          Pierre      Curie  1859-05-15  1906-04-19   \n",
       "\n",
       "             bornCountry bornCountryCode                bornCity  \\\n",
       "0  Prussia (now Germany)              DE  Lennep (now Remscheid)   \n",
       "1        the Netherlands              NL                  Arnhem   \n",
       "2        the Netherlands              NL              Zonnemaire   \n",
       "3                 France              FR                   Paris   \n",
       "4                 France              FR                   Paris   \n",
       "\n",
       "       diedCountry diedCountryCode   diedCity gender  year category  \\\n",
       "0          Germany              DE     Munich   male  1901  physics   \n",
       "1  the Netherlands              NL        NaN   male  1902  physics   \n",
       "2  the Netherlands              NL  Amsterdam   male  1902  physics   \n",
       "3           France              FR        NaN   male  1903  physics   \n",
       "4           France              FR      Paris   male  1903  physics   \n",
       "\n",
       "  overallMotivation  share                                         motivation  \\\n",
       "0               NaN      1  \"in recognition of the extraordinary services ...   \n",
       "1               NaN      2  \"in recognition of the extraordinary service t...   \n",
       "2               NaN      2  \"in recognition of the extraordinary service t...   \n",
       "3               NaN      2  \"in recognition of the extraordinary services ...   \n",
       "4               NaN      4  \"in recognition of the extraordinary services ...   \n",
       "\n",
       "                                                name       city  \\\n",
       "0                                  Munich University     Munich   \n",
       "1                                  Leiden University     Leiden   \n",
       "2                               Amsterdam University  Amsterdam   \n",
       "3                                École Polytechnique      Paris   \n",
       "4  École municipale de physique et de chimie indu...      Paris   \n",
       "\n",
       "           country  \n",
       "0          Germany  \n",
       "1  the Netherlands  \n",
       "2  the Netherlands  \n",
       "3           France  \n",
       "4           France  "
      ]
     },
     "execution_count": 5,
     "metadata": {},
     "output_type": "execute_result"
    }
   ],
   "source": [
    "nobel.head()"
   ]
  },
  {
   "cell_type": "markdown",
   "metadata": {},
   "source": [
    "Here it shows the top 5 but if you want more you can do `head(n)` subsituting n for how many you want to see! We can get more useful info using `info()`:"
   ]
  },
  {
   "cell_type": "code",
   "execution_count": 6,
   "metadata": {},
   "outputs": [
    {
     "name": "stdout",
     "output_type": "stream",
     "text": [
      "<class 'pandas.core.frame.DataFrame'>\n",
      "RangeIndex: 1000 entries, 0 to 999\n",
      "Data columns (total 20 columns):\n",
      " #   Column             Non-Null Count  Dtype \n",
      "---  ------             --------------  ----- \n",
      " 0   id                 1000 non-null   int64 \n",
      " 1   firstname          1000 non-null   object\n",
      " 2   surname            968 non-null    object\n",
      " 3   born               999 non-null    object\n",
      " 4   died               1000 non-null   object\n",
      " 5   bornCountry        969 non-null    object\n",
      " 6   bornCountryCode    969 non-null    object\n",
      " 7   bornCity           966 non-null    object\n",
      " 8   diedCountry        653 non-null    object\n",
      " 9   diedCountryCode    653 non-null    object\n",
      " 10  diedCity           647 non-null    object\n",
      " 11  gender             1000 non-null   object\n",
      " 12  year               1000 non-null   int64 \n",
      " 13  category           1000 non-null   object\n",
      " 14  overallMotivation  23 non-null     object\n",
      " 15  share              1000 non-null   int64 \n",
      " 16  motivation         1000 non-null   object\n",
      " 17  name               736 non-null    object\n",
      " 18  city               731 non-null    object\n",
      " 19  country            733 non-null    object\n",
      "dtypes: int64(3), object(17)\n",
      "memory usage: 156.4+ KB\n"
     ]
    }
   ],
   "source": [
    "nobel.info()"
   ]
  },
  {
   "cell_type": "markdown",
   "metadata": {},
   "source": [
    "This produces a complete list of the column names, together with the number of non-null values for each one.\n",
    "## Locating Data\n",
    "One of the most useful tasks in pandas is locating data that satisfies desired criteria. For example, we can locate a Nobel laureate with a particular surname. Let’s use square brackets and a boolean criterion on the \"surname\" column to find Feynman’s record in the laureates data: Physicist Richard Feynman (pronounced “FINE-men”) did groundbreaking work in theoretical physics (especially quantum electrodynamics and its associated Feynman diagrams). Feynman is also known for The Feynman Lectures on Physics, which covers the elementary physics curriculum (mechanics, thermal physics, electrodynamics, etc.) in an unusually entertaining and insightful way."
   ]
  },
  {
   "cell_type": "code",
   "execution_count": 7,
   "metadata": {},
   "outputs": [
    {
     "data": {
      "text/html": [
       "<div>\n",
       "<style scoped>\n",
       "    .dataframe tbody tr th:only-of-type {\n",
       "        vertical-align: middle;\n",
       "    }\n",
       "\n",
       "    .dataframe tbody tr th {\n",
       "        vertical-align: top;\n",
       "    }\n",
       "\n",
       "    .dataframe thead th {\n",
       "        text-align: right;\n",
       "    }\n",
       "</style>\n",
       "<table border=\"1\" class=\"dataframe\">\n",
       "  <thead>\n",
       "    <tr style=\"text-align: right;\">\n",
       "      <th></th>\n",
       "      <th>id</th>\n",
       "      <th>firstname</th>\n",
       "      <th>surname</th>\n",
       "      <th>born</th>\n",
       "      <th>died</th>\n",
       "      <th>bornCountry</th>\n",
       "      <th>bornCountryCode</th>\n",
       "      <th>bornCity</th>\n",
       "      <th>diedCountry</th>\n",
       "      <th>diedCountryCode</th>\n",
       "      <th>diedCity</th>\n",
       "      <th>gender</th>\n",
       "      <th>year</th>\n",
       "      <th>category</th>\n",
       "      <th>overallMotivation</th>\n",
       "      <th>share</th>\n",
       "      <th>motivation</th>\n",
       "      <th>name</th>\n",
       "      <th>city</th>\n",
       "      <th>country</th>\n",
       "    </tr>\n",
       "  </thead>\n",
       "  <tbody>\n",
       "    <tr>\n",
       "      <th>86</th>\n",
       "      <td>86</td>\n",
       "      <td>Richard P.</td>\n",
       "      <td>Feynman</td>\n",
       "      <td>1918-05-11</td>\n",
       "      <td>1988-02-15</td>\n",
       "      <td>USA</td>\n",
       "      <td>US</td>\n",
       "      <td>New York NY</td>\n",
       "      <td>USA</td>\n",
       "      <td>US</td>\n",
       "      <td>Los Angeles CA</td>\n",
       "      <td>male</td>\n",
       "      <td>1965</td>\n",
       "      <td>physics</td>\n",
       "      <td>NaN</td>\n",
       "      <td>3</td>\n",
       "      <td>\"for their fundamental work in quantum electro...</td>\n",
       "      <td>California Institute of Technology (Caltech)</td>\n",
       "      <td>Pasadena CA</td>\n",
       "      <td>USA</td>\n",
       "    </tr>\n",
       "  </tbody>\n",
       "</table>\n",
       "</div>"
      ],
      "text/plain": [
       "    id   firstname  surname        born        died bornCountry  \\\n",
       "86  86  Richard P.  Feynman  1918-05-11  1988-02-15         USA   \n",
       "\n",
       "   bornCountryCode     bornCity diedCountry diedCountryCode        diedCity  \\\n",
       "86              US  New York NY         USA              US  Los Angeles CA   \n",
       "\n",
       "   gender  year category overallMotivation  share  \\\n",
       "86   male  1965  physics               NaN      3   \n",
       "\n",
       "                                           motivation  \\\n",
       "86  \"for their fundamental work in quantum electro...   \n",
       "\n",
       "                                            name         city country  \n",
       "86  California Institute of Technology (Caltech)  Pasadena CA     USA  "
      ]
     },
     "execution_count": 7,
     "metadata": {},
     "output_type": "execute_result"
    }
   ],
   "source": [
    "nobel[nobel[\"surname\"] == \"Feynman\"]"
   ]
  },
  {
   "cell_type": "markdown",
   "metadata": {},
   "source": [
    "This array-style notation returns the full record, which allows us to determine the year Feynman won his Nobel Prize. Examining a pandas record in a Jupyter notebook.\n"
   ]
  },
  {
   "cell_type": "code",
   "execution_count": 8,
   "metadata": {},
   "outputs": [
    {
     "data": {
      "text/plain": [
       "86    1965\n",
       "Name: year, dtype: int64"
      ]
     },
     "execution_count": 8,
     "metadata": {},
     "output_type": "execute_result"
    }
   ],
   "source": [
    "nobel[nobel[\"surname\"] == \"Feynman\"].year"
   ]
  },
  {
   "cell_type": "markdown",
   "metadata": {},
   "source": [
    "By the way, the syntax `nobel[nobel[\"surname\"] == \"Feynman\"]` can be a little confusing since it might not be clear why we have to refer to nobel twice. The answer is that the inner part of the syntax returns a Series (as we saw before) consisting of boolean values for every laureate, with True if the surname is equal to \"Feynman\" and False otherwise\n"
   ]
  },
  {
   "cell_type": "code",
   "execution_count": 9,
   "metadata": {},
   "outputs": [
    {
     "data": {
      "text/plain": [
       "0      False\n",
       "1      False\n",
       "2      False\n",
       "3      False\n",
       "4      False\n",
       "       ...  \n",
       "995    False\n",
       "996    False\n",
       "997    False\n",
       "998    False\n",
       "999    False\n",
       "Name: surname, Length: 1000, dtype: bool"
      ]
     },
     "execution_count": 9,
     "metadata": {},
     "output_type": "execute_result"
    }
   ],
   "source": [
    "nobel[\"surname\"] == \"Feynman\""
   ]
  },
  {
   "cell_type": "markdown",
   "metadata": {},
   "source": [
    "By using the correct `index (i.e., 86)`, we can confirm that the value in that case is True:"
   ]
  },
  {
   "cell_type": "code",
   "execution_count": 10,
   "metadata": {},
   "outputs": [
    {
     "data": {
      "text/plain": [
       "True"
      ]
     },
     "execution_count": 10,
     "metadata": {},
     "output_type": "execute_result"
    }
   ],
   "source": [
    "(nobel[\"surname\"] == \"Feynman\")[86]"
   ]
  },
  {
   "cell_type": "markdown",
   "metadata": {},
   "source": [
    "This confirms that the following will select only the values of nobel where `nobel[\"surname\"] == \"Feynman\"` is True."
   ]
  },
  {
   "cell_type": "code",
   "execution_count": 11,
   "metadata": {},
   "outputs": [
    {
     "data": {
      "text/html": [
       "<div>\n",
       "<style scoped>\n",
       "    .dataframe tbody tr th:only-of-type {\n",
       "        vertical-align: middle;\n",
       "    }\n",
       "\n",
       "    .dataframe tbody tr th {\n",
       "        vertical-align: top;\n",
       "    }\n",
       "\n",
       "    .dataframe thead th {\n",
       "        text-align: right;\n",
       "    }\n",
       "</style>\n",
       "<table border=\"1\" class=\"dataframe\">\n",
       "  <thead>\n",
       "    <tr style=\"text-align: right;\">\n",
       "      <th></th>\n",
       "      <th>id</th>\n",
       "      <th>firstname</th>\n",
       "      <th>surname</th>\n",
       "      <th>born</th>\n",
       "      <th>died</th>\n",
       "      <th>bornCountry</th>\n",
       "      <th>bornCountryCode</th>\n",
       "      <th>bornCity</th>\n",
       "      <th>diedCountry</th>\n",
       "      <th>diedCountryCode</th>\n",
       "      <th>diedCity</th>\n",
       "      <th>gender</th>\n",
       "      <th>year</th>\n",
       "      <th>category</th>\n",
       "      <th>overallMotivation</th>\n",
       "      <th>share</th>\n",
       "      <th>motivation</th>\n",
       "      <th>name</th>\n",
       "      <th>city</th>\n",
       "      <th>country</th>\n",
       "    </tr>\n",
       "  </thead>\n",
       "  <tbody>\n",
       "    <tr>\n",
       "      <th>86</th>\n",
       "      <td>86</td>\n",
       "      <td>Richard P.</td>\n",
       "      <td>Feynman</td>\n",
       "      <td>1918-05-11</td>\n",
       "      <td>1988-02-15</td>\n",
       "      <td>USA</td>\n",
       "      <td>US</td>\n",
       "      <td>New York NY</td>\n",
       "      <td>USA</td>\n",
       "      <td>US</td>\n",
       "      <td>Los Angeles CA</td>\n",
       "      <td>male</td>\n",
       "      <td>1965</td>\n",
       "      <td>physics</td>\n",
       "      <td>NaN</td>\n",
       "      <td>3</td>\n",
       "      <td>\"for their fundamental work in quantum electro...</td>\n",
       "      <td>California Institute of Technology (Caltech)</td>\n",
       "      <td>Pasadena CA</td>\n",
       "      <td>USA</td>\n",
       "    </tr>\n",
       "  </tbody>\n",
       "</table>\n",
       "</div>"
      ],
      "text/plain": [
       "    id   firstname  surname        born        died bornCountry  \\\n",
       "86  86  Richard P.  Feynman  1918-05-11  1988-02-15         USA   \n",
       "\n",
       "   bornCountryCode     bornCity diedCountry diedCountryCode        diedCity  \\\n",
       "86              US  New York NY         USA              US  Los Angeles CA   \n",
       "\n",
       "   gender  year category overallMotivation  share  \\\n",
       "86   male  1965  physics               NaN      3   \n",
       "\n",
       "                                           motivation  \\\n",
       "86  \"for their fundamental work in quantum electro...   \n",
       "\n",
       "                                            name         city country  \n",
       "86  California Institute of Technology (Caltech)  Pasadena CA     USA  "
      ]
     },
     "execution_count": 11,
     "metadata": {},
     "output_type": "execute_result"
    }
   ],
   "source": [
    "nobel[nobel[\"surname\"] == \"Feynman\"]"
   ]
  },
  {
   "cell_type": "markdown",
   "metadata": {},
   "source": [
    "Another method for getting the year is by specifying the column along with the boolean criterion, using the loc (location) attribute (loc is a special kind of attribute created using a property decorator):"
   ]
  },
  {
   "cell_type": "code",
   "execution_count": 12,
   "metadata": {},
   "outputs": [
    {
     "data": {
      "text/plain": [
       "86    1965\n",
       "Name: year, dtype: int64"
      ]
     },
     "execution_count": 12,
     "metadata": {},
     "output_type": "execute_result"
    }
   ],
   "source": [
    "nobel.loc[nobel[\"surname\"] == \"Feynman\", \"year\"]"
   ]
  },
  {
   "cell_type": "markdown",
   "metadata": {},
   "source": [
    "This returns just the overall id (in this case, 86) and the column of interest. The `loc` attribute can be used in place of brackets in many places and is generally a more flexible way to pull out data items of interest."
   ]
  },
  {
   "cell_type": "markdown",
   "metadata": {},
   "source": [
    "Finding Curies in the laureates.csv dataset - one of the most famous Nobel laureates is Maria Curie .. but her husband and daughter too! Let's find all Nobel laureates named named “Curie” as:"
   ]
  },
  {
   "cell_type": "code",
   "execution_count": 13,
   "metadata": {},
   "outputs": [
    {
     "data": {
      "text/html": [
       "<div>\n",
       "<style scoped>\n",
       "    .dataframe tbody tr th:only-of-type {\n",
       "        vertical-align: middle;\n",
       "    }\n",
       "\n",
       "    .dataframe tbody tr th {\n",
       "        vertical-align: top;\n",
       "    }\n",
       "\n",
       "    .dataframe thead th {\n",
       "        text-align: right;\n",
       "    }\n",
       "</style>\n",
       "<table border=\"1\" class=\"dataframe\">\n",
       "  <thead>\n",
       "    <tr style=\"text-align: right;\">\n",
       "      <th></th>\n",
       "      <th>id</th>\n",
       "      <th>firstname</th>\n",
       "      <th>surname</th>\n",
       "      <th>born</th>\n",
       "      <th>died</th>\n",
       "      <th>bornCountry</th>\n",
       "      <th>bornCountryCode</th>\n",
       "      <th>bornCity</th>\n",
       "      <th>diedCountry</th>\n",
       "      <th>diedCountryCode</th>\n",
       "      <th>diedCity</th>\n",
       "      <th>gender</th>\n",
       "      <th>year</th>\n",
       "      <th>category</th>\n",
       "      <th>overallMotivation</th>\n",
       "      <th>share</th>\n",
       "      <th>motivation</th>\n",
       "      <th>name</th>\n",
       "      <th>city</th>\n",
       "      <th>country</th>\n",
       "    </tr>\n",
       "  </thead>\n",
       "  <tbody>\n",
       "    <tr>\n",
       "      <th>4</th>\n",
       "      <td>5</td>\n",
       "      <td>Pierre</td>\n",
       "      <td>Curie</td>\n",
       "      <td>1859-05-15</td>\n",
       "      <td>1906-04-19</td>\n",
       "      <td>France</td>\n",
       "      <td>FR</td>\n",
       "      <td>Paris</td>\n",
       "      <td>France</td>\n",
       "      <td>FR</td>\n",
       "      <td>Paris</td>\n",
       "      <td>male</td>\n",
       "      <td>1903</td>\n",
       "      <td>physics</td>\n",
       "      <td>NaN</td>\n",
       "      <td>4</td>\n",
       "      <td>\"in recognition of the extraordinary services ...</td>\n",
       "      <td>École municipale de physique et de chimie indu...</td>\n",
       "      <td>Paris</td>\n",
       "      <td>France</td>\n",
       "    </tr>\n",
       "    <tr>\n",
       "      <th>5</th>\n",
       "      <td>6</td>\n",
       "      <td>Marie</td>\n",
       "      <td>Curie</td>\n",
       "      <td>1867-11-07</td>\n",
       "      <td>1934-07-04</td>\n",
       "      <td>Russian Empire (now Poland)</td>\n",
       "      <td>PL</td>\n",
       "      <td>Warsaw</td>\n",
       "      <td>France</td>\n",
       "      <td>FR</td>\n",
       "      <td>Sallanches</td>\n",
       "      <td>female</td>\n",
       "      <td>1903</td>\n",
       "      <td>physics</td>\n",
       "      <td>NaN</td>\n",
       "      <td>4</td>\n",
       "      <td>\"in recognition of the extraordinary services ...</td>\n",
       "      <td>NaN</td>\n",
       "      <td>NaN</td>\n",
       "      <td>NaN</td>\n",
       "    </tr>\n",
       "    <tr>\n",
       "      <th>6</th>\n",
       "      <td>6</td>\n",
       "      <td>Marie</td>\n",
       "      <td>Curie</td>\n",
       "      <td>1867-11-07</td>\n",
       "      <td>1934-07-04</td>\n",
       "      <td>Russian Empire (now Poland)</td>\n",
       "      <td>PL</td>\n",
       "      <td>Warsaw</td>\n",
       "      <td>France</td>\n",
       "      <td>FR</td>\n",
       "      <td>Sallanches</td>\n",
       "      <td>female</td>\n",
       "      <td>1911</td>\n",
       "      <td>chemistry</td>\n",
       "      <td>NaN</td>\n",
       "      <td>1</td>\n",
       "      <td>\"in recognition of her services to the advance...</td>\n",
       "      <td>Sorbonne University</td>\n",
       "      <td>Paris</td>\n",
       "      <td>France</td>\n",
       "    </tr>\n",
       "    <tr>\n",
       "      <th>191</th>\n",
       "      <td>194</td>\n",
       "      <td>Irène</td>\n",
       "      <td>Joliot-Curie</td>\n",
       "      <td>1897-09-12</td>\n",
       "      <td>1956-03-17</td>\n",
       "      <td>France</td>\n",
       "      <td>FR</td>\n",
       "      <td>Paris</td>\n",
       "      <td>France</td>\n",
       "      <td>FR</td>\n",
       "      <td>Paris</td>\n",
       "      <td>female</td>\n",
       "      <td>1935</td>\n",
       "      <td>chemistry</td>\n",
       "      <td>NaN</td>\n",
       "      <td>2</td>\n",
       "      <td>\"in recognition of their synthesis of new radi...</td>\n",
       "      <td>Institut du Radium</td>\n",
       "      <td>Paris</td>\n",
       "      <td>France</td>\n",
       "    </tr>\n",
       "  </tbody>\n",
       "</table>\n",
       "</div>"
      ],
      "text/plain": [
       "      id firstname       surname        born        died  \\\n",
       "4      5    Pierre         Curie  1859-05-15  1906-04-19   \n",
       "5      6     Marie         Curie  1867-11-07  1934-07-04   \n",
       "6      6     Marie         Curie  1867-11-07  1934-07-04   \n",
       "191  194     Irène  Joliot-Curie  1897-09-12  1956-03-17   \n",
       "\n",
       "                     bornCountry bornCountryCode bornCity diedCountry  \\\n",
       "4                         France              FR    Paris      France   \n",
       "5    Russian Empire (now Poland)              PL   Warsaw      France   \n",
       "6    Russian Empire (now Poland)              PL   Warsaw      France   \n",
       "191                       France              FR    Paris      France   \n",
       "\n",
       "    diedCountryCode    diedCity  gender  year   category overallMotivation  \\\n",
       "4                FR       Paris    male  1903    physics               NaN   \n",
       "5                FR  Sallanches  female  1903    physics               NaN   \n",
       "6                FR  Sallanches  female  1911  chemistry               NaN   \n",
       "191              FR       Paris  female  1935  chemistry               NaN   \n",
       "\n",
       "     share                                         motivation  \\\n",
       "4        4  \"in recognition of the extraordinary services ...   \n",
       "5        4  \"in recognition of the extraordinary services ...   \n",
       "6        1  \"in recognition of her services to the advance...   \n",
       "191      2  \"in recognition of their synthesis of new radi...   \n",
       "\n",
       "                                                  name   city country  \n",
       "4    École municipale de physique et de chimie indu...  Paris  France  \n",
       "5                                                  NaN    NaN     NaN  \n",
       "6                                  Sorbonne University  Paris  France  \n",
       "191                                 Institut du Radium  Paris  France  "
      ]
     },
     "execution_count": 13,
     "metadata": {},
     "output_type": "execute_result"
    }
   ],
   "source": [
    "curies = nobel.loc[nobel[\"surname\"].str.contains(\"Curie\", na=False)]\n",
    "curies\n"
   ]
  },
  {
   "cell_type": "markdown",
   "metadata": {},
   "source": [
    "Just the first and last names of these Laureates?"
   ]
  },
  {
   "cell_type": "code",
   "execution_count": 14,
   "metadata": {},
   "outputs": [
    {
     "data": {
      "text/html": [
       "<div>\n",
       "<style scoped>\n",
       "    .dataframe tbody tr th:only-of-type {\n",
       "        vertical-align: middle;\n",
       "    }\n",
       "\n",
       "    .dataframe tbody tr th {\n",
       "        vertical-align: top;\n",
       "    }\n",
       "\n",
       "    .dataframe thead th {\n",
       "        text-align: right;\n",
       "    }\n",
       "</style>\n",
       "<table border=\"1\" class=\"dataframe\">\n",
       "  <thead>\n",
       "    <tr style=\"text-align: right;\">\n",
       "      <th></th>\n",
       "      <th>firstname</th>\n",
       "      <th>surname</th>\n",
       "    </tr>\n",
       "  </thead>\n",
       "  <tbody>\n",
       "    <tr>\n",
       "      <th>4</th>\n",
       "      <td>Pierre</td>\n",
       "      <td>Curie</td>\n",
       "    </tr>\n",
       "    <tr>\n",
       "      <th>5</th>\n",
       "      <td>Marie</td>\n",
       "      <td>Curie</td>\n",
       "    </tr>\n",
       "    <tr>\n",
       "      <th>6</th>\n",
       "      <td>Marie</td>\n",
       "      <td>Curie</td>\n",
       "    </tr>\n",
       "    <tr>\n",
       "      <th>191</th>\n",
       "      <td>Irène</td>\n",
       "      <td>Joliot-Curie</td>\n",
       "    </tr>\n",
       "  </tbody>\n",
       "</table>\n",
       "</div>"
      ],
      "text/plain": [
       "    firstname       surname\n",
       "4      Pierre         Curie\n",
       "5       Marie         Curie\n",
       "6       Marie         Curie\n",
       "191     Irène  Joliot-Curie"
      ]
     },
     "execution_count": 14,
     "metadata": {},
     "output_type": "execute_result"
    }
   ],
   "source": [
    "curies[[\"firstname\", \"surname\"]]"
   ]
  },
  {
   "cell_type": "markdown",
   "metadata": {},
   "source": [
    "Finding winners of multiple Nobel Prizes."
   ]
  },
  {
   "cell_type": "code",
   "execution_count": 15,
   "metadata": {},
   "outputs": [
    {
     "data": {
      "text/plain": [
       "id   firstname  surname  \n",
       "6    Marie      Curie        2\n",
       "66   John       Bardeen      2\n",
       "217  Linus      Pauling      2\n",
       "222  Frederick  Sanger       2\n",
       "743  Barry      Sharpless    2\n",
       "dtype: int64"
      ]
     },
     "execution_count": 15,
     "metadata": {},
     "output_type": "execute_result"
    }
   ],
   "source": [
    "laureates = nobel.groupby([\"id\", \"firstname\", \"surname\"])\n",
    "sizes = laureates.size()\n",
    "sizes[sizes > 1]\n"
   ]
  },
  {
   "cell_type": "markdown",
   "metadata": {},
   "source": [
    "### What does following compute? Which Laureates?"
   ]
  },
  {
   "cell_type": "code",
   "execution_count": 16,
   "metadata": {},
   "outputs": [
    {
     "data": {
      "text/html": [
       "<div>\n",
       "<style scoped>\n",
       "    .dataframe tbody tr th:only-of-type {\n",
       "        vertical-align: middle;\n",
       "    }\n",
       "\n",
       "    .dataframe tbody tr th {\n",
       "        vertical-align: top;\n",
       "    }\n",
       "\n",
       "    .dataframe thead th {\n",
       "        text-align: right;\n",
       "    }\n",
       "</style>\n",
       "<table border=\"1\" class=\"dataframe\">\n",
       "  <thead>\n",
       "    <tr style=\"text-align: right;\">\n",
       "      <th></th>\n",
       "      <th>id</th>\n",
       "      <th>firstname</th>\n",
       "      <th>surname</th>\n",
       "      <th>born</th>\n",
       "      <th>died</th>\n",
       "      <th>bornCountry</th>\n",
       "      <th>bornCountryCode</th>\n",
       "      <th>bornCity</th>\n",
       "      <th>diedCountry</th>\n",
       "      <th>diedCountryCode</th>\n",
       "      <th>diedCity</th>\n",
       "      <th>gender</th>\n",
       "      <th>year</th>\n",
       "      <th>category</th>\n",
       "      <th>overallMotivation</th>\n",
       "      <th>share</th>\n",
       "      <th>motivation</th>\n",
       "      <th>name</th>\n",
       "      <th>city</th>\n",
       "      <th>country</th>\n",
       "    </tr>\n",
       "  </thead>\n",
       "  <tbody>\n",
       "    <tr>\n",
       "      <th>79</th>\n",
       "      <td>79</td>\n",
       "      <td>Maria</td>\n",
       "      <td>Goeppert Mayer</td>\n",
       "      <td>1906-06-28</td>\n",
       "      <td>1972-02-20</td>\n",
       "      <td>Germany (now Poland)</td>\n",
       "      <td>PL</td>\n",
       "      <td>Kattowitz (now Katowice)</td>\n",
       "      <td>USA</td>\n",
       "      <td>US</td>\n",
       "      <td>San Diego CA</td>\n",
       "      <td>female</td>\n",
       "      <td>1963</td>\n",
       "      <td>physics</td>\n",
       "      <td>NaN</td>\n",
       "      <td>4</td>\n",
       "      <td>\"for their discoveries concerning nuclear shel...</td>\n",
       "      <td>University of California</td>\n",
       "      <td>San Diego CA</td>\n",
       "      <td>USA</td>\n",
       "    </tr>\n",
       "    <tr>\n",
       "      <th>125</th>\n",
       "      <td>126</td>\n",
       "      <td>Klaus</td>\n",
       "      <td>von Klitzing</td>\n",
       "      <td>1943-06-28</td>\n",
       "      <td>0000-00-00</td>\n",
       "      <td>German-occupied Poland (now Poland)</td>\n",
       "      <td>PL</td>\n",
       "      <td>Schroda</td>\n",
       "      <td>NaN</td>\n",
       "      <td>NaN</td>\n",
       "      <td>NaN</td>\n",
       "      <td>male</td>\n",
       "      <td>1985</td>\n",
       "      <td>physics</td>\n",
       "      <td>NaN</td>\n",
       "      <td>1</td>\n",
       "      <td>\"for the discovery of the quantized Hall effect\"</td>\n",
       "      <td>Max-Planck-Institut für Festkörperforschung</td>\n",
       "      <td>Stuttgart</td>\n",
       "      <td>Germany</td>\n",
       "    </tr>\n",
       "  </tbody>\n",
       "</table>\n",
       "</div>"
      ],
      "text/plain": [
       "      id firstname         surname        born        died  \\\n",
       "79    79     Maria  Goeppert Mayer  1906-06-28  1972-02-20   \n",
       "125  126     Klaus    von Klitzing  1943-06-28  0000-00-00   \n",
       "\n",
       "                             bornCountry bornCountryCode  \\\n",
       "79                  Germany (now Poland)              PL   \n",
       "125  German-occupied Poland (now Poland)              PL   \n",
       "\n",
       "                     bornCity diedCountry diedCountryCode      diedCity  \\\n",
       "79   Kattowitz (now Katowice)         USA              US  San Diego CA   \n",
       "125                   Schroda         NaN             NaN           NaN   \n",
       "\n",
       "     gender  year category overallMotivation  share  \\\n",
       "79   female  1963  physics               NaN      4   \n",
       "125    male  1985  physics               NaN      1   \n",
       "\n",
       "                                            motivation  \\\n",
       "79   \"for their discoveries concerning nuclear shel...   \n",
       "125   \"for the discovery of the quantized Hall effect\"   \n",
       "\n",
       "                                            name          city  country  \n",
       "79                      University of California  San Diego CA      USA  \n",
       "125  Max-Planck-Institut für Festkörperforschung     Stuttgart  Germany  "
      ]
     },
     "execution_count": 16,
     "metadata": {},
     "output_type": "execute_result"
    }
   ],
   "source": [
    "nobel.loc[(nobel[\"born\"].astype('string').str.contains(\"06-28\")) & (nobel[\"category\"] == \"physics\")]\n"
   ]
  },
  {
   "cell_type": "markdown",
   "metadata": {},
   "source": [
    "**Some Practice Exercises**\n",
    "1.\tWhat happens if the dimensions in reshape() don’t match the array size (e.g., np.arange(16).reshape((4, 17)))?\n",
    "2.\tConfirm that A = np.random.rand(5, 5) lets you define a 5 × 5 random matrix.\n",
    "3.\tFind the inverse Ainv of the 5 × 5 matrix in the previous exercise. (Calculating the inverse of a 2 × 2 matrix as in Section 11.2.2 is fairly simple by hand, but the task rapidly gets harder as the matrix size increases, in which case a computational system like NumPy is indispensable.)\n",
    "4.\tWhat is the matrix product I = A @ Ainv of the matrices in the previous two exercises? Use the same isclose() trick from Listing 11.7 to zero out the elements of I close to zero and confirm that the resulting matrix is indeed the 5 × 5 identity matrix.\n",
    "5.\tResearch how to add a title and axis labels to your plots\n",
    "6.\tOne common plotting task is including multiple subplots in the same figure. Show that the code in Listing 11.10 creates vertically stacked subplots. (Here the suptitle() method produces a “supertitle” that sits above both plots. See the Matplotlib documentation on subplots for other ways to create multiple subplots.)\n"
   ]
  }
 ],
 "metadata": {
  "kernelspec": {
   "display_name": "Python 3 (ipykernel)",
   "language": "python",
   "name": "python3"
  },
  "language_info": {
   "codemirror_mode": {
    "name": "ipython",
    "version": 3
   },
   "file_extension": ".py",
   "mimetype": "text/x-python",
   "name": "python",
   "nbconvert_exporter": "python",
   "pygments_lexer": "ipython3",
   "version": "3.10.13"
  }
 },
 "nbformat": 4,
 "nbformat_minor": 4
}
